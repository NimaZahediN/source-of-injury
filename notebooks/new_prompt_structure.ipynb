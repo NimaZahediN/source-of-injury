{
 "cells": [
  {
   "cell_type": "code",
   "execution_count": null,
   "metadata": {},
   "outputs": [],
   "source": [
    "def prompt(incident_description):\n",
    "    return f\"\"\"The Workers Compensation Board of Manitoba manages claims by reviewing incident descriptions submitted by workers. Claim coders review the incident description and populate a database with reasoning towards determining the source of injury (InjurySource). You are an assistant that takes an incident description and provides reasoning towards determining the InjurySource.\n",
    "\n",
    "### Instruction:\n",
    "\n",
    "IncidentDescription: \"{incident_description}\"\n",
    "\n",
    "### Response:\n",
    "\"\"\"\n",
    "\n",
    "def prompt_tok(incident_description):\n",
    "    _p = prompt(incident_description)\n",
    "    inputs = tokenizer(_p, return_tensors=\"pt\", truncation=True, padding=True)\n",
    "    input_ids = inputs.input_ids.cuda()\n",
    "    attention_mask = inputs.attention_mask.cuda()\n",
    "    out_ids = model.generate(input_ids=input_ids, attention_mask=attention_mask, max_new_tokens=500, do_sample=False, pad_token_id=tokenizer.eos_token_id)\n",
    "    return tokenizer.batch_decode(out_ids.detach().cpu().numpy(), skip_special_tokens=True)[0][len(_p):]\n",
    "\n",
    "incident_description = \"My work hours were from 7:00 a.m. to 12:00 noon.  I first lifted a box containing 8 pieces of 1 litre juices from the pallet onto the cart to take to the display cooler. Then I lifted the next box which was a box of 48 pieces of butter off a pallet to put into the cart to take to the display cooler. When I went to lift the box of butter onto the cart, I felt something click in my back and started to be painful. I stood up from bent over position and I was very sore when I turned around to the left. I went to my manager & he sent me home at about 10:40 a.m. That day I thought it would go away but the next day I was having pain down into my arms. I called my doctor and they were closed.  \"\n",
    "output = prompt_tok(incident_description)\n",
    "print(output)\n"
   ]
  }
 ],
 "metadata": {
  "language_info": {
   "name": "python"
  }
 },
 "nbformat": 4,
 "nbformat_minor": 2
}
