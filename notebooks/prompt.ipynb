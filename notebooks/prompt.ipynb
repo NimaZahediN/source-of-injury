{
 "cells": [
  {
   "cell_type": "markdown",
   "metadata": {},
   "source": [
    "### Prompt for synthetic data"
   ]
  },
  {
   "cell_type": "code",
   "execution_count": null,
   "metadata": {},
   "outputs": [],
   "source": [
    "prompt = f\"\"\"\n",
    "    Workers Compensation Board of Manitoba manages claims by reviewing incident descriptions submitted by workers. Claim coders review the incident description and populate a database with certain values based on predefined codes by AWCBC. One of the fields in the database is InjurySource, which identifies the source of the injury described in the incident.\n",
    "\n",
    "    Here is the specification for the database fields related to InjurySource:\n",
    "\n",
    "    DATABASE SPEC:\n",
    "    Sometimes the InjurySource is composed of multiple terms, such as \"Truck, uns.\". They are actually one single code as long as inside a double quotation mark.\n",
    "\n",
    "    \"IncidentDescription\": \"A description of the incident provided by the worker.\",\n",
    "    \"Chain of Thought\": \"A reasoning towards determining the InjurySource.\",\n",
    "    \"InjurySource\": \"The source of the injury inferred from the incident description.\" Examples of predefined codes include Grates, Tools, Machinery, Chemicals, Cart, dolly, handtruck, etc.\"\n",
    "\n",
    "    Determining the InjurySource involves analyzing the context, identifying key objects or actions described, and logically inferring the most relevant predefined code. Consider the specific details provided, such as the type of objects involved, the actions taken, and the resulting injury. Look for hints or cues, tools, substances, or equipment that could logically be linked to the injury source.\n",
    "\n",
    "    Here are some examples of how incident descriptions are mapped to InjurySource, with logical reasoning from an expert claim coder:\n",
    "\n",
    "    IncidentDescription: \"I was walking across the factory floor when I slipped on a wet patch, falling and hitting my head on the concrete. My colleague helped me up, and I was taken to the emergency room for a check-up.\"\n",
    "    Chain of Thought: The mention of the factory floor and the act of slipping suggests that the injury source is related to the floor itself. The description provides clues about the environment and the cause of the injury.\n",
    "    InjurySource: \"Floor of building\"\n",
    "\n",
    "    IncidentDescription: \"During my shift, I was moving several large crates into the storage area. One of the crates slipped from my grasp and landed on my foot, causing severe pain and swelling. I reported the incident and went to the clinic for an X-ray.\"\n",
    "    Chain of Thought: The involvement of crates being moved and the subsequent injury from one falling highlights \"Boxes, crates, cartons\" as the injury source. The scenario indicates handling of these items as the direct cause. \n",
    "    InjurySource: \"Boxes, crates, cartons\"\n",
    "\n",
    "    IncidentDescription: \"While attempting to lift a heavy box from a high shelf, I twisted my body awkwardly, resulting in a sharp pain in my back. I immediately stopped working and informed my supervisor. I sought medical attention shortly after.\"\n",
    "    Chain of Thought: The description of bodily motion, specifically the twisting movement while lifting, indicates that the injury source is related to the worker's motion or position. This scenario emphasizes physical exertion leading to injury.\n",
    "        InjurySource: \"Bodily motion or position of injured, ill worker\"\n",
    "\n",
    "    IncidentDescription: \"After cleaning a patient’s room who had a viral infection, I began to feel unwell myself. A few days later, I was diagnosed with the same viral infection and had to take sick leave.\"\n",
    "    Chain of Thought: The context of working with a patient who has a viral infection and the subsequent illness indicates that the source of the injury is biological, specifically \"Viruses\". This inference is based on the transmission scenario described.\n",
    "    InjurySource: \"Viruses\"\n",
    "\n",
    "    ---\n",
    "\n",
    "    You are given an injury source, and your goal is to generate a synthetic dataset that resembles a real-world representation of the incident data. The incident descriptions MUST:\n",
    "    1. Vary SIGNIFICANTLY in detail, clarity, and language style from other previous synthetic data to reflect the diversity of real-world submissions.\n",
    "    2. Include scenarios where the injury source must be inferred from the context, even if not explicitly stated.\n",
    "    3. Present complex situations involving multiple objects or actions, requiring nuanced inference to identify the correct injury source.\n",
    "\n",
    "    Your response should be a JSON array with {num_entries} entries, each containing the keys \"IncidentDescription\", \"Chain of Thought\", and \"InjurySource\". The injury source in \"Chain of Thought\" should be selected from predefined codes.\n",
    "\n",
    "    Respond with only the JSON array and nothing else.\n",
    "    InjurySource: {injury_source}\n",
    "    \"\"\"\n",
    "injury_source = \"Viruses\"\n",
    "num_entries = 10"
   ]
  },
  {
   "cell_type": "markdown",
   "metadata": {},
   "source": [
    "The above prompt was iteratively refined with the following two prompts:\n",
    "\n",
    ">Generate 35 more, but remember this time to avoid using the same words and vocabularies or other linguistic patterns. Rather, use a wider, more diverse, and high variance vocabs and phrases with synonyms and other INDIRECT indicators such that one would INFER that InjurySource is ==\"Virus\"==. Also important: make the incident descriptions lengthier and longer.\n",
    "\n",
    ">Generate 30 more, but remember this time to also use varying situations. avoid using always the same locations. IMPORTANT: Make the chain of thought reasoning more nuanced, grounded in experience, domain specific knowledge and standards of claim coding. Act as an experience claim coder with over 2 decades of experience. The reasoning MUST have the high complexity of an experience claim coder with over 2 decades of experience. Also important: Make the incident descriptions lengthier and more challenging. "
   ]
  }
 ],
 "metadata": {
  "kernelspec": {
   "display_name": "Python 3",
   "language": "python",
   "name": "python3"
  },
  "language_info": {
   "name": "python",
   "version": "3.10.13"
  }
 },
 "nbformat": 4,
 "nbformat_minor": 2
}
