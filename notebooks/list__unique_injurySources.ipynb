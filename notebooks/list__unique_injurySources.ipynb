{
 "cells": [
  {
   "cell_type": "code",
   "execution_count": 2,
   "metadata": {},
   "outputs": [],
   "source": [
    "from collections import defaultdict\n",
    "\n",
    "# Read the file and store the data in a dictionary\n",
    "injury_sources = defaultdict(int)\n",
    "with open('/workspaces/source-of-injury/full_list_unique_InjurySources.txt', 'r') as file:\n",
    "    for line in file:\n",
    "        source, freq = line.strip().split('\\t')\n",
    "        injury_sources[source] = int(freq)\n",
    "\n",
    "# Sort the dictionary by value in descending order\n",
    "sorted_sources = sorted(injury_sources.items(), key=lambda x: x[1], reverse=True)\n",
    "\n",
    "# Open a file for writing\n",
    "with open('/workspaces/source-of-injury/200_unique_InjurySource.txt', 'w') as output_file:\n",
    "    # Write the table header\n",
    "    output_file.write('{:<60} {:<20}\\n'.format('unique_value', 'frequencies'))\n",
    "    output_file.write('-' * 80 + '\\n')\n",
    "\n",
    "    # Write the first 200 injury sources\n",
    "    for i, (source, freq) in enumerate(sorted_sources[:209], start=1):\n",
    "        output_file.write('{:<60} {:<20}\\n'.format(source, freq))\n"
   ]
  }
 ],
 "metadata": {
  "kernelspec": {
   "display_name": "Python 3",
   "language": "python",
   "name": "python3"
  },
  "language_info": {
   "codemirror_mode": {
    "name": "ipython",
    "version": 3
   },
   "file_extension": ".py",
   "mimetype": "text/x-python",
   "name": "python",
   "nbconvert_exporter": "python",
   "pygments_lexer": "ipython3",
   "version": "3.10.13"
  }
 },
 "nbformat": 4,
 "nbformat_minor": 2
}
