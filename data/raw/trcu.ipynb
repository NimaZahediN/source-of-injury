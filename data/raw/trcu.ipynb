{
 "cells": [
  {
   "cell_type": "code",
   "execution_count": 8,
   "metadata": {},
   "outputs": [
    {
     "name": "stdout",
     "output_type": "stream",
     "text": [
      "JSON file updated successfully!\n"
     ]
    }
   ],
   "source": [
    "import json\n",
    "\n",
    "# Open the JSON file\n",
    "with open('/workspaces/source-of-injury/data/raw/Truck, uns..json', 'r') as file:\n",
    "    data = json.load(file)\n",
    "\n",
    "# Modify the \"InjurySource\" value\n",
    "for item in data:\n",
    "    if item['InjurySource'] == 'Truck, uns. or Truck, n.e.c.':\n",
    "        item['InjurySource'] = 'Truck, uns OR n.e.c'\n",
    "\n",
    "# Write the modified data back to the JSON file\n",
    "with open('/workspaces/source-of-injury/data/raw/Truck, uns..json', 'w') as file:\n",
    "    json.dump(data, file, indent=4)\n",
    "\n",
    "print(\"JSON file updated successfully!\")"
   ]
  }
 ],
 "metadata": {
  "kernelspec": {
   "display_name": "Python 3",
   "language": "python",
   "name": "python3"
  },
  "language_info": {
   "codemirror_mode": {
    "name": "ipython",
    "version": 3
   },
   "file_extension": ".py",
   "mimetype": "text/x-python",
   "name": "python",
   "nbconvert_exporter": "python",
   "pygments_lexer": "ipython3",
   "version": "3.10.13"
  }
 },
 "nbformat": 4,
 "nbformat_minor": 2
}
