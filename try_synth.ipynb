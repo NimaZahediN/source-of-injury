{
 "cells": [
  {
   "cell_type": "code",
   "execution_count": 3,
   "metadata": {},
   "outputs": [],
   "source": [
    "import json\n",
    "import asyncio\n",
    "from typing import List\n",
    "import logging\n",
    "from pydantic import BaseModel\n",
    "import instructor\n",
    "from openai import AsyncOpenAI"
   ]
  },
  {
   "cell_type": "code",
   "execution_count": 4,
   "metadata": {},
   "outputs": [],
   "source": [
    "logging.basicConfig(level=logging.INFO)\n",
    "logger = logging.getLogger(__name__)\n"
   ]
  },
  {
   "cell_type": "code",
   "execution_count": 6,
   "metadata": {},
   "outputs": [
    {
     "ename": "ModuleNotFoundError",
     "evalue": "No module named 'dotenv'",
     "output_type": "error",
     "traceback": [
      "\u001b[0;31m---------------------------------------------------------------------------\u001b[0m",
      "\u001b[0;31mModuleNotFoundError\u001b[0m                       Traceback (most recent call last)",
      "Cell \u001b[0;32mIn[6], line 2\u001b[0m\n\u001b[1;32m      1\u001b[0m \u001b[38;5;28;01mimport\u001b[39;00m \u001b[38;5;21;01mos\u001b[39;00m\n\u001b[0;32m----> 2\u001b[0m \u001b[38;5;28;01mfrom\u001b[39;00m \u001b[38;5;21;01mdotenv\u001b[39;00m \u001b[38;5;28;01mimport\u001b[39;00m load_dotenv\n\u001b[1;32m      4\u001b[0m load_dotenv()\n\u001b[1;32m      6\u001b[0m api_key \u001b[38;5;241m=\u001b[39m os\u001b[38;5;241m.\u001b[39mgetenv(\u001b[38;5;124m\"\u001b[39m\u001b[38;5;124mAZURE_OPENAI_API_KEY\u001b[39m\u001b[38;5;124m\"\u001b[39m)\n",
      "\u001b[0;31mModuleNotFoundError\u001b[0m: No module named 'dotenv'"
     ]
    }
   ],
   "source": [
    "import os\n",
    "from dotenv import load_dotenv\n",
    "\n",
    "load_dotenv()\n",
    "\n",
    "api_key = os.getenv(\"AZURE_OPENAI_API_KEY\")\n",
    "endpoint = os.getenv(\"AZURE_OPENAI_ENDPOINT\")\n"
   ]
  },
  {
   "cell_type": "code",
   "execution_count": null,
   "metadata": {},
   "outputs": [],
   "source": [
    "from openai import AzureOpenAI\n",
    "\n",
    "azure_client = AzureOpenAI(\n",
    "    api_key=api_key,\n",
    "    api_version=\"2024-02-01\",\n",
    "    azure_endpoint=endpoint,\n",
    ")\n",
    "\n",
    "deployment_name = \"WHI\""
   ]
  },
  {
   "cell_type": "code",
   "execution_count": 5,
   "metadata": {},
   "outputs": [
    {
     "ename": "OpenAIError",
     "evalue": "The api_key client option must be set either by passing api_key to the client or by setting the OPENAI_API_KEY environment variable",
     "output_type": "error",
     "traceback": [
      "\u001b[0;31m---------------------------------------------------------------------------\u001b[0m",
      "\u001b[0;31mOpenAIError\u001b[0m                               Traceback (most recent call last)",
      "Cell \u001b[0;32mIn[5], line 1\u001b[0m\n\u001b[0;32m----> 1\u001b[0m client \u001b[38;5;241m=\u001b[39m instructor\u001b[38;5;241m.\u001b[39mfrom_openai(\u001b[43mAsyncOpenAI\u001b[49m\u001b[43m(\u001b[49m\u001b[43m)\u001b[49m)\n",
      "File \u001b[0;32m~/.python/current/lib/python3.10/site-packages/openai/_client.py:319\u001b[0m, in \u001b[0;36mAsyncOpenAI.__init__\u001b[0;34m(self, api_key, organization, project, base_url, timeout, max_retries, default_headers, default_query, http_client, _strict_response_validation)\u001b[0m\n\u001b[1;32m    317\u001b[0m     api_key \u001b[38;5;241m=\u001b[39m os\u001b[38;5;241m.\u001b[39menviron\u001b[38;5;241m.\u001b[39mget(\u001b[38;5;124m\"\u001b[39m\u001b[38;5;124mOPENAI_API_KEY\u001b[39m\u001b[38;5;124m\"\u001b[39m)\n\u001b[1;32m    318\u001b[0m \u001b[38;5;28;01mif\u001b[39;00m api_key \u001b[38;5;129;01mis\u001b[39;00m \u001b[38;5;28;01mNone\u001b[39;00m:\n\u001b[0;32m--> 319\u001b[0m     \u001b[38;5;28;01mraise\u001b[39;00m OpenAIError(\n\u001b[1;32m    320\u001b[0m         \u001b[38;5;124m\"\u001b[39m\u001b[38;5;124mThe api_key client option must be set either by passing api_key to the client or by setting the OPENAI_API_KEY environment variable\u001b[39m\u001b[38;5;124m\"\u001b[39m\n\u001b[1;32m    321\u001b[0m     )\n\u001b[1;32m    322\u001b[0m \u001b[38;5;28mself\u001b[39m\u001b[38;5;241m.\u001b[39mapi_key \u001b[38;5;241m=\u001b[39m api_key\n\u001b[1;32m    324\u001b[0m \u001b[38;5;28;01mif\u001b[39;00m organization \u001b[38;5;129;01mis\u001b[39;00m \u001b[38;5;28;01mNone\u001b[39;00m:\n",
      "\u001b[0;31mOpenAIError\u001b[0m: The api_key client option must be set either by passing api_key to the client or by setting the OPENAI_API_KEY environment variable"
     ]
    }
   ],
   "source": [
    "client = instructor.patch(azure_client)"
   ]
  },
  {
   "cell_type": "code",
   "execution_count": null,
   "metadata": {},
   "outputs": [],
   "source": [
    "\n",
    "\n",
    "class WorkersCompClaim(BaseModel):\n",
    "    incident_description: str\n",
    "    chain_of_thought: str\n",
    "    injury_source: str\n",
    "\n",
    "class ClaimGenerationError(Exception):\n",
    "    pass\n",
    "\n",
    "async def generate_claims(injury_source: str, num_entries: int) -> List[WorkersCompClaim]:\n",
    "    prompt = f\"\"\"\n",
    "    Generate {num_entries} workers compensation claims related to the injury source: \"{injury_source}\".\n",
    "    \n",
    "    Each claim should include:\n",
    "    1. An incident description written as if by the injured worker. Vary in detail, clarity, and style. Include complex scenarios with multiple objects/actions.\n",
    "    2. Expert reasoning (20+ years experience) towards determining the InjurySource. Use nuanced, domain-specific knowledge and claim coding standards.\n",
    "    3. The determined injury source, using predefined AWCBC codes.\n",
    "\n",
    "    Guidelines:\n",
    "    - Ensure incident descriptions genuinely resemble reports written by workers, not professionals.\n",
    "    - Vary vocabulary, phrases, and linguistic patterns significantly.\n",
    "    - Use indirect indicators that allow inference of the injury source.\n",
    "    - Include diverse locations and situations.\n",
    "    - Make incident descriptions lengthier and more challenging over time.\n",
    "    - Ensure expert-level complexity in the reasoning.\n",
    "\n",
    "    Do not use placeholder text or repeat the same claim multiple times.\n",
    "    \"\"\"\n",
    "\n",
    "    try:\n",
    "        claims = client.chat.completions.create_iterable(\n",
    "            model=\"gpt-4\",\n",
    "            response_model=WorkersCompClaim,\n",
    "            messages=[{\"role\": \"user\", \"content\": prompt}],\n",
    "        )\n",
    "        return [claim async for claim in claims]\n",
    "    except Exception as e:\n",
    "        logger.error(f\"Error generating claims: {str(e)}\")\n",
    "        return []\n",
    "\n",
    "async def create_synthetic_dataset(injury_source: str, num_entries: int) -> List[WorkersCompClaim]:\n",
    "    try:\n",
    "        return await generate_claims(injury_source, num_entries)\n",
    "    except Exception as e:\n",
    "        logger.error(f\"Unexpected error creating dataset: {str(e)}\")\n",
    "        raise ClaimGenerationError(\"Failed to create synthetic dataset\") from e\n",
    "\n",
    "def save_dataset(dataset: List[WorkersCompClaim], filename: str):\n",
    "    with open(filename, \"w\") as f:\n",
    "        json.dump([claim.dict() for claim in dataset], f, indent=2)\n",
    "\n",
    "async def main():\n",
    "    injury_source = \"Metal chips, particles\"\n",
    "    num_entries = 75\n",
    "\n",
    "    try:\n",
    "        synthetic_dataset = await create_synthetic_dataset(injury_source, num_entries)\n",
    "        save_dataset(synthetic_dataset, \"synthetic_workers_comp_claims.json\")\n",
    "        logger.info(f\"Generated {len(synthetic_dataset)} WorkersCompClaims.\")\n",
    "        logger.info(\"Dataset saved as 'synthetic_workers_comp_claims.json'\")\n",
    "    except Exception as e:\n",
    "        logger.error(f\"An error occurred during dataset creation: {str(e)}\")\n",
    "\n",
    "if __name__ == \"__main__\":\n",
    "    asyncio.run(main())\n"
   ]
  }
 ],
 "metadata": {
  "kernelspec": {
   "display_name": "Python 3",
   "language": "python",
   "name": "python3"
  },
  "language_info": {
   "codemirror_mode": {
    "name": "ipython",
    "version": 3
   },
   "file_extension": ".py",
   "mimetype": "text/x-python",
   "name": "python",
   "nbconvert_exporter": "python",
   "pygments_lexer": "ipython3",
   "version": "3.10.13"
  }
 },
 "nbformat": 4,
 "nbformat_minor": 2
}
